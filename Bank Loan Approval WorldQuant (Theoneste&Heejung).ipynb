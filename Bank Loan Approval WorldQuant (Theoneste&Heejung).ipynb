{
 "cells": [
  {
   "cell_type": "code",
   "execution_count": 1,
   "metadata": {},
   "outputs": [],
   "source": [
    "import scipy\n",
    "import pandas as pd\n",
    "import matplotlib \n",
    "import matplotlib.pyplot as plt\n",
    "import seaborn as sns\n",
    "import numpy as np\n",
    "from sklearn import tree\n",
    "from sklearn.manifold import TSNE\n",
    "from IPython.core.interactiveshell import InteractiveShell\n",
    "import warnings\n",
    "from sklearn.preprocessing import StandardScaler\n",
    "from sklearn.manifold import TSNE\n",
    "warnings.filterwarnings('ignore') # to supress seaborn warnings\n",
    "pd.options.display.max_columns = None # Remove pandas display column number limit\n",
    "#InteractiveShell.ast_node_interactivity = \"all\" # Display all values of a jupyter notebook cell\n",
    "import sys\n",
    "#import savReaderWriter as sav\n",
    "#import the evaluatation metric\n",
    "from sklearn.metrics import balanced_accuracy_score\n",
    "#pandas library for reading data\n",
    "import pandas as pd\n",
    "#numpy library for computation with matrices and arrays\n",
    "import numpy as np\n",
    "#matplotlib library for visualization\n",
    "import matplotlib.pyplot as plt\n",
    "import warnings\n",
    "warnings.filterwarnings(action='ignore')\n",
    "#command for displaying visualizations within the notebook\n",
    "%matplotlib inline\n",
    "from sklearn.metrics import confusion_matrix, recall_score, precision_score\n",
    "import seaborn as sns\n",
    "%matplotlib inline"
   ]
  },
  {
   "cell_type": "code",
   "execution_count": 2,
   "metadata": {},
   "outputs": [],
   "source": [
    "import os\n",
    "import matplotlib.pyplot as plt\n",
    "import seaborn as sns\n",
    "\n",
    "from sklearn.preprocessing import LabelEncoder\n",
    "from sklearn.model_selection import train_test_split\n",
    "from sklearn.tree import DecisionTreeClassifier\n",
    "from sklearn.ensemble import RandomForestClassifier\n",
    "from sklearn.linear_model import LogisticRegression\n",
    "from sklearn.neighbors import KNeighborsClassifier\n",
    "from sklearn.ensemble import VotingClassifier\n",
    "from sklearn.ensemble import GradientBoostingClassifier\n",
    "from sklearn.ensemble import AdaBoostClassifier\n",
    "from sklearn.metrics import accuracy_score\n",
    "from sklearn import tree\n",
    "from sklearn import svm, metrics\n",
    "\n",
    "import xgboost as xgb\n",
    "from xgboost import XGBClassifier"
   ]
  },
  {
   "cell_type": "code",
   "execution_count": 3,
   "metadata": {},
   "outputs": [],
   "source": [
    "import pandas as pd\n",
    "import matplotlib.pyplot as plt \n",
    "from sklearn.tree import DecisionTreeClassifier\n",
    "from sklearn.ensemble import GradientBoostingClassifier, RandomForestClassifier\n",
    "import seaborn as sns\n",
    "from sklearn.naive_bayes import GaussianNB\n",
    "from sklearn.neighbors import KNeighborsClassifier\n",
    "from sklearn.linear_model import LogisticRegression\n",
    "from sklearn.model_selection import train_test_split\n",
    "from sklearn.preprocessing import LabelEncoder\n",
    "from sklearn.metrics import accuracy_score\n",
    "from sklearn.metrics import confusion_matrix\n",
    "from sklearn.metrics import classification_report\n",
    "from sklearn.metrics import classification_report,confusion_matrix"
   ]
  },
  {
   "cell_type": "code",
   "execution_count": 4,
   "metadata": {
    "scrolled": true
   },
   "outputs": [
    {
     "data": {
      "text/html": [
       "<div>\n",
       "<style scoped>\n",
       "    .dataframe tbody tr th:only-of-type {\n",
       "        vertical-align: middle;\n",
       "    }\n",
       "\n",
       "    .dataframe tbody tr th {\n",
       "        vertical-align: top;\n",
       "    }\n",
       "\n",
       "    .dataframe thead th {\n",
       "        text-align: right;\n",
       "    }\n",
       "</style>\n",
       "<table border=\"1\" class=\"dataframe\">\n",
       "  <thead>\n",
       "    <tr style=\"text-align: right;\">\n",
       "      <th></th>\n",
       "      <th>person_age</th>\n",
       "      <th>person_income</th>\n",
       "      <th>person_home_ownership</th>\n",
       "      <th>person_emp_length</th>\n",
       "      <th>loan_intent</th>\n",
       "      <th>loan_grade</th>\n",
       "      <th>loan_amnt</th>\n",
       "      <th>loan_int_rate</th>\n",
       "      <th>loan_status</th>\n",
       "      <th>loan_percent_income</th>\n",
       "      <th>cb_person_default_on_file</th>\n",
       "      <th>cb_person_cred_hist_length</th>\n",
       "    </tr>\n",
       "  </thead>\n",
       "  <tbody>\n",
       "    <tr>\n",
       "      <th>0</th>\n",
       "      <td>22</td>\n",
       "      <td>59000</td>\n",
       "      <td>RENT</td>\n",
       "      <td>123.0</td>\n",
       "      <td>PERSONAL</td>\n",
       "      <td>D</td>\n",
       "      <td>35000</td>\n",
       "      <td>16.02</td>\n",
       "      <td>1</td>\n",
       "      <td>0.59</td>\n",
       "      <td>Y</td>\n",
       "      <td>3</td>\n",
       "    </tr>\n",
       "    <tr>\n",
       "      <th>1</th>\n",
       "      <td>21</td>\n",
       "      <td>9600</td>\n",
       "      <td>OWN</td>\n",
       "      <td>5.0</td>\n",
       "      <td>EDUCATION</td>\n",
       "      <td>B</td>\n",
       "      <td>1000</td>\n",
       "      <td>11.14</td>\n",
       "      <td>0</td>\n",
       "      <td>0.10</td>\n",
       "      <td>N</td>\n",
       "      <td>2</td>\n",
       "    </tr>\n",
       "    <tr>\n",
       "      <th>2</th>\n",
       "      <td>25</td>\n",
       "      <td>9600</td>\n",
       "      <td>MORTGAGE</td>\n",
       "      <td>1.0</td>\n",
       "      <td>MEDICAL</td>\n",
       "      <td>C</td>\n",
       "      <td>5500</td>\n",
       "      <td>12.87</td>\n",
       "      <td>1</td>\n",
       "      <td>0.57</td>\n",
       "      <td>N</td>\n",
       "      <td>3</td>\n",
       "    </tr>\n",
       "    <tr>\n",
       "      <th>3</th>\n",
       "      <td>23</td>\n",
       "      <td>65500</td>\n",
       "      <td>RENT</td>\n",
       "      <td>4.0</td>\n",
       "      <td>MEDICAL</td>\n",
       "      <td>C</td>\n",
       "      <td>35000</td>\n",
       "      <td>15.23</td>\n",
       "      <td>1</td>\n",
       "      <td>0.53</td>\n",
       "      <td>N</td>\n",
       "      <td>2</td>\n",
       "    </tr>\n",
       "    <tr>\n",
       "      <th>4</th>\n",
       "      <td>24</td>\n",
       "      <td>54400</td>\n",
       "      <td>RENT</td>\n",
       "      <td>8.0</td>\n",
       "      <td>MEDICAL</td>\n",
       "      <td>C</td>\n",
       "      <td>35000</td>\n",
       "      <td>14.27</td>\n",
       "      <td>1</td>\n",
       "      <td>0.55</td>\n",
       "      <td>Y</td>\n",
       "      <td>4</td>\n",
       "    </tr>\n",
       "  </tbody>\n",
       "</table>\n",
       "</div>"
      ],
      "text/plain": [
       "   person_age  person_income person_home_ownership  person_emp_length  \\\n",
       "0          22          59000                  RENT              123.0   \n",
       "1          21           9600                   OWN                5.0   \n",
       "2          25           9600              MORTGAGE                1.0   \n",
       "3          23          65500                  RENT                4.0   \n",
       "4          24          54400                  RENT                8.0   \n",
       "\n",
       "  loan_intent loan_grade  loan_amnt  loan_int_rate  loan_status  \\\n",
       "0    PERSONAL          D      35000          16.02            1   \n",
       "1   EDUCATION          B       1000          11.14            0   \n",
       "2     MEDICAL          C       5500          12.87            1   \n",
       "3     MEDICAL          C      35000          15.23            1   \n",
       "4     MEDICAL          C      35000          14.27            1   \n",
       "\n",
       "   loan_percent_income cb_person_default_on_file  cb_person_cred_hist_length  \n",
       "0                 0.59                         Y                           3  \n",
       "1                 0.10                         N                           2  \n",
       "2                 0.57                         N                           3  \n",
       "3                 0.53                         N                           2  \n",
       "4                 0.55                         Y                           4  "
      ]
     },
     "execution_count": 4,
     "metadata": {},
     "output_type": "execute_result"
    }
   ],
   "source": [
    "df1=pd.read_csv(\"cr_loan2.csv\")\n",
    "df2=pd.read_csv(\"cr_loan2.csv\").dropna()\n",
    "df1.head()"
   ]
  },
  {
   "cell_type": "code",
   "execution_count": 5,
   "metadata": {},
   "outputs": [
    {
     "data": {
      "text/plain": [
       "(32581, 12)"
      ]
     },
     "execution_count": 5,
     "metadata": {},
     "output_type": "execute_result"
    }
   ],
   "source": [
    "df1.shape"
   ]
  },
  {
   "cell_type": "code",
   "execution_count": 6,
   "metadata": {},
   "outputs": [
    {
     "data": {
      "text/plain": [
       "person_age                       0\n",
       "person_income                    0\n",
       "person_home_ownership            0\n",
       "person_emp_length              895\n",
       "loan_intent                      0\n",
       "loan_grade                       0\n",
       "loan_amnt                        0\n",
       "loan_int_rate                 3116\n",
       "loan_status                      0\n",
       "loan_percent_income              0\n",
       "cb_person_default_on_file        0\n",
       "cb_person_cred_hist_length       0\n",
       "dtype: int64"
      ]
     },
     "execution_count": 6,
     "metadata": {},
     "output_type": "execute_result"
    }
   ],
   "source": [
    "df1.isnull().sum()"
   ]
  },
  {
   "cell_type": "code",
   "execution_count": 7,
   "metadata": {},
   "outputs": [
    {
     "data": {
      "text/plain": [
       "person_age                    0\n",
       "person_income                 0\n",
       "person_home_ownership         0\n",
       "person_emp_length             0\n",
       "loan_intent                   0\n",
       "loan_grade                    0\n",
       "loan_amnt                     0\n",
       "loan_int_rate                 0\n",
       "loan_status                   0\n",
       "loan_percent_income           0\n",
       "cb_person_default_on_file     0\n",
       "cb_person_cred_hist_length    0\n",
       "dtype: int64"
      ]
     },
     "execution_count": 7,
     "metadata": {},
     "output_type": "execute_result"
    }
   ],
   "source": [
    "df1.dropna(inplace=True)\n",
    "df1.isnull().sum()"
   ]
  },
  {
   "cell_type": "code",
   "execution_count": 8,
   "metadata": {},
   "outputs": [
    {
     "data": {
      "text/plain": [
       "(28638, 12)"
      ]
     },
     "execution_count": 8,
     "metadata": {},
     "output_type": "execute_result"
    }
   ],
   "source": [
    "df1.shape"
   ]
  },
  {
   "cell_type": "markdown",
   "metadata": {},
   "source": [
    "#### Checking for outlier Person_age column"
   ]
  },
  {
   "cell_type": "code",
   "execution_count": 9,
   "metadata": {},
   "outputs": [
    {
     "data": {
      "text/plain": [
       "144"
      ]
     },
     "execution_count": 9,
     "metadata": {},
     "output_type": "execute_result"
    }
   ],
   "source": [
    "max(df1['person_age'])"
   ]
  },
  {
   "cell_type": "code",
   "execution_count": 10,
   "metadata": {},
   "outputs": [
    {
     "data": {
      "image/png": "[encoded data removed]",
      "text/plain": [
       "<Figure size 432x288 with 1 Axes>"
      ]
     },
     "metadata": {
      "needs_background": "light"
     },
     "output_type": "display_data"
    }
   ],
   "source": [
    "# Create the scatter plot for age and amount\n",
    "plt.scatter(df1['person_age'], df1['loan_amnt'], c='blue', alpha=0.5)\n",
    "plt.xlabel(\"Person Age\")\n",
    "plt.ylabel(\"Loan Amount\")\n",
    "plt.show()"
   ]
  },
  {
   "cell_type": "code",
   "execution_count": 11,
   "metadata": {},
   "outputs": [
    {
     "data": {
      "image/png": "[encoded data removed]",
      "text/plain": [
       "<Figure size 432x288 with 1 Axes>"
      ]
     },
     "metadata": {
      "needs_background": "light"
     },
     "output_type": "display_data"
    }
   ],
   "source": [
    "indices = df1[df1['person_age'] >= 60].index\n",
    "df1.drop(indices, inplace=True)\n",
    "plt.scatter(df1['person_age'], df1['loan_amnt'], c='blue', alpha=0.5)\n",
    "plt.xlabel(\"Person Age\")\n",
    "plt.ylabel(\"Loan Amount\")\n",
    "plt.show()"
   ]
  },
  {
   "cell_type": "markdown",
   "metadata": {},
   "source": [
    "#### Check outlier in Employment length columns"
   ]
  },
  {
   "cell_type": "code",
   "execution_count": 12,
   "metadata": {},
   "outputs": [
    {
     "data": {
      "text/plain": [
       "123.0"
      ]
     },
     "execution_count": 12,
     "metadata": {},
     "output_type": "execute_result"
    }
   ],
   "source": [
    "max(df1['person_emp_length'])"
   ]
  },
  {
   "cell_type": "code",
   "execution_count": 13,
   "metadata": {},
   "outputs": [
    {
     "data": {
      "image/png": "[encoded data removed]",
      "text/plain": [
       "<Figure size 432x288 with 1 Axes>"
      ]
     },
     "metadata": {
      "needs_background": "light"
     },
     "output_type": "display_data"
    }
   ],
   "source": [
    "plt.scatter(df1['person_emp_length'], df1['loan_amnt'], c='blue', alpha=0.5)\n",
    "plt.xlabel('person_emp_length')\n",
    "plt.ylabel(\"Loan Amount\")\n",
    "plt.show()"
   ]
  },
  {
   "cell_type": "markdown",
   "metadata": {},
   "source": [
    "Person can't have employment length which is great than 40 because the retired age is 60 \n",
    "and we suppose that person start a job at 20 years old"
   ]
  },
  {
   "cell_type": "code",
   "execution_count": 14,
   "metadata": {},
   "outputs": [
    {
     "data": {
      "image/png": "[encoded data removed]",
      "text/plain": [
       "<Figure size 432x288 with 1 Axes>"
      ]
     },
     "metadata": {
      "needs_background": "light"
     },
     "output_type": "display_data"
    }
   ],
   "source": [
    "indices = df1[df1['person_emp_length'] >= 40].index\n",
    "df1.drop(indices, inplace=True)\n",
    "plt.scatter(df1['person_emp_length'], df1['loan_amnt'], c='blue', alpha=0.5)\n",
    "plt.xlabel(\"Person Age\")\n",
    "plt.ylabel(\"Loan Amount\")\n",
    "plt.show()"
   ]
  },
  {
   "cell_type": "markdown",
   "metadata": {},
   "source": [
    "### Cross validatation of person home ownership"
   ]
  },
  {
   "cell_type": "code",
   "execution_count": 15,
   "metadata": {},
   "outputs": [
    {
     "data": {
      "text/html": [
       "<div>\n",
       "<style scoped>\n",
       "    .dataframe tbody tr th:only-of-type {\n",
       "        vertical-align: middle;\n",
       "    }\n",
       "\n",
       "    .dataframe tbody tr th {\n",
       "        vertical-align: top;\n",
       "    }\n",
       "\n",
       "    .dataframe thead th {\n",
       "        text-align: right;\n",
       "    }\n",
       "</style>\n",
       "<table border=\"1\" class=\"dataframe\">\n",
       "  <thead>\n",
       "    <tr style=\"text-align: right;\">\n",
       "      <th>loan_status</th>\n",
       "      <th>0</th>\n",
       "      <th>1</th>\n",
       "    </tr>\n",
       "    <tr>\n",
       "      <th>person_home_ownership</th>\n",
       "      <th></th>\n",
       "      <th></th>\n",
       "    </tr>\n",
       "  </thead>\n",
       "  <tbody>\n",
       "    <tr>\n",
       "      <th>MORTGAGE</th>\n",
       "      <td>10.09</td>\n",
       "      <td>13.54</td>\n",
       "    </tr>\n",
       "    <tr>\n",
       "      <th>OTHER</th>\n",
       "      <td>11.41</td>\n",
       "      <td>13.56</td>\n",
       "    </tr>\n",
       "    <tr>\n",
       "      <th>OWN</th>\n",
       "      <td>10.85</td>\n",
       "      <td>12.46</td>\n",
       "    </tr>\n",
       "    <tr>\n",
       "      <th>RENT</th>\n",
       "      <td>10.76</td>\n",
       "      <td>13.01</td>\n",
       "    </tr>\n",
       "  </tbody>\n",
       "</table>\n",
       "</div>"
      ],
      "text/plain": [
       "loan_status                0      1\n",
       "person_home_ownership              \n",
       "MORTGAGE               10.09  13.54\n",
       "OTHER                  11.41  13.56\n",
       "OWN                    10.85  12.46\n",
       "RENT                   10.76  13.01"
      ]
     },
     "execution_count": 15,
     "metadata": {},
     "output_type": "execute_result"
    }
   ],
   "source": [
    "pd.crosstab(df1['person_home_ownership'],\n",
    "df1['loan_status'],values=df1['loan_int_rate'],aggfunc='mean').round(2)"
   ]
  },
  {
   "cell_type": "markdown",
   "metadata": {},
   "source": [
    "### Cross validation table for loan_intent and Loan status"
   ]
  },
  {
   "cell_type": "code",
   "execution_count": 16,
   "metadata": {},
   "outputs": [
    {
     "data": {
      "text/html": [
       "<div>\n",
       "<style scoped>\n",
       "    .dataframe tbody tr th:only-of-type {\n",
       "        vertical-align: middle;\n",
       "    }\n",
       "\n",
       "    .dataframe tbody tr th {\n",
       "        vertical-align: top;\n",
       "    }\n",
       "\n",
       "    .dataframe thead th {\n",
       "        text-align: right;\n",
       "    }\n",
       "</style>\n",
       "<table border=\"1\" class=\"dataframe\">\n",
       "  <thead>\n",
       "    <tr style=\"text-align: right;\">\n",
       "      <th>loan_status</th>\n",
       "      <th>0</th>\n",
       "      <th>1</th>\n",
       "      <th>All</th>\n",
       "    </tr>\n",
       "    <tr>\n",
       "      <th>loan_intent</th>\n",
       "      <th></th>\n",
       "      <th></th>\n",
       "      <th></th>\n",
       "    </tr>\n",
       "  </thead>\n",
       "  <tbody>\n",
       "    <tr>\n",
       "      <th>DEBTCONSOLIDATION</th>\n",
       "      <td>11.44</td>\n",
       "      <td>4.51</td>\n",
       "      <td>15.95</td>\n",
       "    </tr>\n",
       "    <tr>\n",
       "      <th>EDUCATION</th>\n",
       "      <td>16.56</td>\n",
       "      <td>3.39</td>\n",
       "      <td>19.95</td>\n",
       "    </tr>\n",
       "    <tr>\n",
       "      <th>HOMEIMPROVEMENT</th>\n",
       "      <td>8.32</td>\n",
       "      <td>2.86</td>\n",
       "      <td>11.18</td>\n",
       "    </tr>\n",
       "    <tr>\n",
       "      <th>MEDICAL</th>\n",
       "      <td>13.50</td>\n",
       "      <td>4.96</td>\n",
       "      <td>18.46</td>\n",
       "    </tr>\n",
       "    <tr>\n",
       "      <th>PERSONAL</th>\n",
       "      <td>13.61</td>\n",
       "      <td>3.35</td>\n",
       "      <td>16.97</td>\n",
       "    </tr>\n",
       "    <tr>\n",
       "      <th>VENTURE</th>\n",
       "      <td>14.93</td>\n",
       "      <td>2.56</td>\n",
       "      <td>17.49</td>\n",
       "    </tr>\n",
       "    <tr>\n",
       "      <th>All</th>\n",
       "      <td>78.37</td>\n",
       "      <td>21.63</td>\n",
       "      <td>100.00</td>\n",
       "    </tr>\n",
       "  </tbody>\n",
       "</table>\n",
       "</div>"
      ],
      "text/plain": [
       "loan_status            0      1     All\n",
       "loan_intent                            \n",
       "DEBTCONSOLIDATION  11.44   4.51   15.95\n",
       "EDUCATION          16.56   3.39   19.95\n",
       "HOMEIMPROVEMENT     8.32   2.86   11.18\n",
       "MEDICAL            13.50   4.96   18.46\n",
       "PERSONAL           13.61   3.35   16.97\n",
       "VENTURE            14.93   2.56   17.49\n",
       "All                78.37  21.63  100.00"
      ]
     },
     "execution_count": 16,
     "metadata": {},
     "output_type": "execute_result"
    }
   ],
   "source": [
    "(pd.crosstab(df1['loan_intent'],df1['loan_status'],margins=True)*100/(28565)).round(2)"
   ]
  },
  {
   "cell_type": "markdown",
   "metadata": {},
   "source": [
    "### Loan status percentage in the dataset "
   ]
  },
  {
   "cell_type": "code",
   "execution_count": 17,
   "metadata": {},
   "outputs": [
    {
     "data": {
      "text/html": [
       "<div>\n",
       "<style scoped>\n",
       "    .dataframe tbody tr th:only-of-type {\n",
       "        vertical-align: middle;\n",
       "    }\n",
       "\n",
       "    .dataframe tbody tr th {\n",
       "        vertical-align: top;\n",
       "    }\n",
       "\n",
       "    .dataframe thead th {\n",
       "        text-align: right;\n",
       "    }\n",
       "</style>\n",
       "<table border=\"1\" class=\"dataframe\">\n",
       "  <thead>\n",
       "    <tr style=\"text-align: right;\">\n",
       "      <th>loan_status</th>\n",
       "      <th>0</th>\n",
       "      <th>1</th>\n",
       "      <th>All</th>\n",
       "    </tr>\n",
       "    <tr>\n",
       "      <th>loan_status</th>\n",
       "      <th></th>\n",
       "      <th></th>\n",
       "      <th></th>\n",
       "    </tr>\n",
       "  </thead>\n",
       "  <tbody>\n",
       "    <tr>\n",
       "      <th>0</th>\n",
       "      <td>78.37</td>\n",
       "      <td>0.00</td>\n",
       "      <td>78.37</td>\n",
       "    </tr>\n",
       "    <tr>\n",
       "      <th>1</th>\n",
       "      <td>0.00</td>\n",
       "      <td>21.63</td>\n",
       "      <td>21.63</td>\n",
       "    </tr>\n",
       "    <tr>\n",
       "      <th>All</th>\n",
       "      <td>78.37</td>\n",
       "      <td>21.63</td>\n",
       "      <td>100.00</td>\n",
       "    </tr>\n",
       "  </tbody>\n",
       "</table>\n",
       "</div>"
      ],
      "text/plain": [
       "loan_status      0      1     All\n",
       "loan_status                      \n",
       "0            78.37   0.00   78.37\n",
       "1             0.00  21.63   21.63\n",
       "All          78.37  21.63  100.00"
      ]
     },
     "execution_count": 17,
     "metadata": {},
     "output_type": "execute_result"
    }
   ],
   "source": [
    "(pd.crosstab(df1['loan_status'],df1['loan_status'],margins=True)*100/(28565)).round(2)"
   ]
  },
  {
   "cell_type": "code",
   "execution_count": 18,
   "metadata": {},
   "outputs": [
    {
     "data": {
      "image/png": "[encoded data removed]",
      "text/plain": [
       "<Figure size 432x288 with 1 Axes>"
      ]
     },
     "metadata": {
      "needs_background": "light"
     },
     "output_type": "display_data"
    }
   ],
   "source": [
    "def addlabels(x,y):\n",
    "    for i in range(len(x)):\n",
    "        plt.text(i, y[i]//2, y[i], ha = 'center')  \n",
    "if __name__ == '__main__':\n",
    "    \n",
    "    x = [\"Deault\", \"Paid Off\"]     \n",
    "    y = [ 21.63, 78.37]    \n",
    "    #plt.figure(figsize = (3,3))  \n",
    "    plt.bar(x, y) \n",
    "    addlabels(x, y) \n",
    "    plt.title('Loan_status VS. Number of Customes')  \n",
    "    # giving X and Y labels\n",
    "    plt.xlabel(\"Loan_status (In Percentage)\")\n",
    "    plt.ylabel(\"Number of Customers\")\n",
    "    plt.show()"
   ]
  },
  {
   "cell_type": "code",
   "execution_count": 19,
   "metadata": {},
   "outputs": [
    {
     "data": {
      "image/png": "[encoded data removed]",
      "text/plain": [
       "<Figure size 720x360 with 1 Axes>"
      ]
     },
     "metadata": {
      "needs_background": "light"
     },
     "output_type": "display_data"
    }
   ],
   "source": [
    "def addlabels(x,y):\n",
    "    for i in range(len(x)):\n",
    "        plt.text(i, y[i]//2, y[i], ha = 'center')  \n",
    "if __name__ == '__main__':\n",
    "    \n",
    "    x = [\"A\", \"B\", \"C\", \"D\",\"E\", \"F\", \"G\"]     \n",
    "    y = [9381,9130, 5684,3236,866,209,59]    \n",
    "    plt.figure(figsize = (10,5))  \n",
    "    plt.bar(x, y) \n",
    "    addlabels(x, y) \n",
    "    plt.title('Grade VS. Number of Customes')  \n",
    "    # giving X and Y labels\n",
    "    plt.xlabel(\"Loan_grade\")\n",
    "    plt.ylabel(\"Number of Customers\")\n",
    "    plt.show()"
   ]
  },
  {
   "cell_type": "markdown",
   "metadata": {},
   "source": [
    "### Crosstable of Person_home_Ownership"
   ]
  },
  {
   "cell_type": "code",
   "execution_count": 20,
   "metadata": {},
   "outputs": [
    {
     "data": {
      "text/html": [
       "<div>\n",
       "<style scoped>\n",
       "    .dataframe tbody tr th:only-of-type {\n",
       "        vertical-align: middle;\n",
       "    }\n",
       "\n",
       "    .dataframe tbody tr th {\n",
       "        vertical-align: top;\n",
       "    }\n",
       "\n",
       "    .dataframe thead tr th {\n",
       "        text-align: left;\n",
       "    }\n",
       "\n",
       "    .dataframe thead tr:last-of-type th {\n",
       "        text-align: right;\n",
       "    }\n",
       "</style>\n",
       "<table border=\"1\" class=\"dataframe\">\n",
       "  <thead>\n",
       "    <tr>\n",
       "      <th>loan_status</th>\n",
       "      <th colspan=\"7\" halign=\"left\">0</th>\n",
       "      <th colspan=\"7\" halign=\"left\">1</th>\n",
       "      <th>All</th>\n",
       "    </tr>\n",
       "    <tr>\n",
       "      <th>loan_grade</th>\n",
       "      <th>A</th>\n",
       "      <th>B</th>\n",
       "      <th>C</th>\n",
       "      <th>D</th>\n",
       "      <th>E</th>\n",
       "      <th>F</th>\n",
       "      <th>G</th>\n",
       "      <th>A</th>\n",
       "      <th>B</th>\n",
       "      <th>C</th>\n",
       "      <th>D</th>\n",
       "      <th>E</th>\n",
       "      <th>F</th>\n",
       "      <th>G</th>\n",
       "      <th></th>\n",
       "    </tr>\n",
       "    <tr>\n",
       "      <th>person_home_ownership</th>\n",
       "      <th></th>\n",
       "      <th></th>\n",
       "      <th></th>\n",
       "      <th></th>\n",
       "      <th></th>\n",
       "      <th></th>\n",
       "      <th></th>\n",
       "      <th></th>\n",
       "      <th></th>\n",
       "      <th></th>\n",
       "      <th></th>\n",
       "      <th></th>\n",
       "      <th></th>\n",
       "      <th></th>\n",
       "      <th></th>\n",
       "    </tr>\n",
       "  </thead>\n",
       "  <tbody>\n",
       "    <tr>\n",
       "      <th>MORTGAGE</th>\n",
       "      <td>4552</td>\n",
       "      <td>3246</td>\n",
       "      <td>1712</td>\n",
       "      <td>586</td>\n",
       "      <td>167</td>\n",
       "      <td>32</td>\n",
       "      <td>0</td>\n",
       "      <td>193</td>\n",
       "      <td>282</td>\n",
       "      <td>282</td>\n",
       "      <td>497</td>\n",
       "      <td>140</td>\n",
       "      <td>59</td>\n",
       "      <td>28</td>\n",
       "      <td>11776</td>\n",
       "    </tr>\n",
       "    <tr>\n",
       "      <th>OTHER</th>\n",
       "      <td>21</td>\n",
       "      <td>25</td>\n",
       "      <td>11</td>\n",
       "      <td>9</td>\n",
       "      <td>1</td>\n",
       "      <td>0</td>\n",
       "      <td>0</td>\n",
       "      <td>3</td>\n",
       "      <td>5</td>\n",
       "      <td>5</td>\n",
       "      <td>7</td>\n",
       "      <td>5</td>\n",
       "      <td>2</td>\n",
       "      <td>0</td>\n",
       "      <td>94</td>\n",
       "    </tr>\n",
       "    <tr>\n",
       "      <th>OWN</th>\n",
       "      <td>708</td>\n",
       "      <td>675</td>\n",
       "      <td>398</td>\n",
       "      <td>235</td>\n",
       "      <td>19</td>\n",
       "      <td>7</td>\n",
       "      <td>0</td>\n",
       "      <td>49</td>\n",
       "      <td>21</td>\n",
       "      <td>22</td>\n",
       "      <td>15</td>\n",
       "      <td>28</td>\n",
       "      <td>6</td>\n",
       "      <td>5</td>\n",
       "      <td>2188</td>\n",
       "    </tr>\n",
       "    <tr>\n",
       "      <th>RENT</th>\n",
       "      <td>3198</td>\n",
       "      <td>3738</td>\n",
       "      <td>2409</td>\n",
       "      <td>492</td>\n",
       "      <td>119</td>\n",
       "      <td>24</td>\n",
       "      <td>1</td>\n",
       "      <td>657</td>\n",
       "      <td>1138</td>\n",
       "      <td>845</td>\n",
       "      <td>1395</td>\n",
       "      <td>387</td>\n",
       "      <td>79</td>\n",
       "      <td>25</td>\n",
       "      <td>14507</td>\n",
       "    </tr>\n",
       "    <tr>\n",
       "      <th>All</th>\n",
       "      <td>8479</td>\n",
       "      <td>7684</td>\n",
       "      <td>4530</td>\n",
       "      <td>1322</td>\n",
       "      <td>306</td>\n",
       "      <td>63</td>\n",
       "      <td>1</td>\n",
       "      <td>902</td>\n",
       "      <td>1446</td>\n",
       "      <td>1154</td>\n",
       "      <td>1914</td>\n",
       "      <td>560</td>\n",
       "      <td>146</td>\n",
       "      <td>58</td>\n",
       "      <td>28565</td>\n",
       "    </tr>\n",
       "  </tbody>\n",
       "</table>\n",
       "</div>"
      ],
      "text/plain": [
       "loan_status               0                                  1              \\\n",
       "loan_grade                A     B     C     D    E   F  G    A     B     C   \n",
       "person_home_ownership                                                        \n",
       "MORTGAGE               4552  3246  1712   586  167  32  0  193   282   282   \n",
       "OTHER                    21    25    11     9    1   0  0    3     5     5   \n",
       "OWN                     708   675   398   235   19   7  0   49    21    22   \n",
       "RENT                   3198  3738  2409   492  119  24  1  657  1138   845   \n",
       "All                    8479  7684  4530  1322  306  63  1  902  1446  1154   \n",
       "\n",
       "loan_status                                  All  \n",
       "loan_grade                D    E    F   G         \n",
       "person_home_ownership                             \n",
       "MORTGAGE                497  140   59  28  11776  \n",
       "OTHER                     7    5    2   0     94  \n",
       "OWN                      15   28    6   5   2188  \n",
       "RENT                   1395  387   79  25  14507  \n",
       "All                    1914  560  146  58  28565  "
      ]
     },
     "execution_count": 20,
     "metadata": {},
     "output_type": "execute_result"
    }
   ],
   "source": [
    "pd.crosstab(df1['person_home_ownership'],\n",
    "[df1['loan_status'],df1['loan_grade']],margins=True)"
   ]
  },
  {
   "cell_type": "markdown",
   "metadata": {},
   "source": [
    "### Changing data norminal and categorical data into numbers"
   ]
  },
  {
   "cell_type": "code",
   "execution_count": 21,
   "metadata": {},
   "outputs": [],
   "source": [
    "df1[\"person_home_ownership\"]=df1[\"person_home_ownership\"].map({\"RENT\":0,\"OWN\":1,\"MORTGAGE\":2,\"OTHER\":3}).astype(int)"
   ]
  },
  {
   "cell_type": "code",
   "execution_count": 22,
   "metadata": {},
   "outputs": [],
   "source": [
    "df1[\"loan_intent\"]=df1[\"loan_intent\"].map({\"PERSONAL\":0,\"EDUCATION\":1,\"MEDICAL\":2,\"VENTURE\":3,\"HOMEIMPROVEMENT\":4,\"DEBTCONSOLIDATION\":5}).astype(int)"
   ]
  },
  {
   "cell_type": "code",
   "execution_count": 23,
   "metadata": {},
   "outputs": [],
   "source": [
    "df1[\"loan_grade\"]=df1[\"loan_grade\"].map({\"A\":0,\"B\":1,\"C\":2,\"D\":3,\"E\":4,\"F\":5,\"G\":6}).astype(int)"
   ]
  },
  {
   "cell_type": "code",
   "execution_count": 24,
   "metadata": {},
   "outputs": [],
   "source": [
    "df1[\"cb_person_default_on_file\"]=df1[\"cb_person_default_on_file\"].map({\"Y\":0,\"N\":1}).astype(int)"
   ]
  },
  {
   "cell_type": "code",
   "execution_count": 25,
   "metadata": {},
   "outputs": [
    {
     "data": {
      "text/html": [
       "<div>\n",
       "<style scoped>\n",
       "    .dataframe tbody tr th:only-of-type {\n",
       "        vertical-align: middle;\n",
       "    }\n",
       "\n",
       "    .dataframe tbody tr th {\n",
       "        vertical-align: top;\n",
       "    }\n",
       "\n",
       "    .dataframe thead th {\n",
       "        text-align: right;\n",
       "    }\n",
       "</style>\n",
       "<table border=\"1\" class=\"dataframe\">\n",
       "  <thead>\n",
       "    <tr style=\"text-align: right;\">\n",
       "      <th></th>\n",
       "      <th>person_age</th>\n",
       "      <th>person_income</th>\n",
       "      <th>person_home_ownership</th>\n",
       "      <th>person_emp_length</th>\n",
       "      <th>loan_intent</th>\n",
       "      <th>loan_grade</th>\n",
       "      <th>loan_amnt</th>\n",
       "      <th>loan_int_rate</th>\n",
       "      <th>loan_status</th>\n",
       "      <th>loan_percent_income</th>\n",
       "      <th>cb_person_default_on_file</th>\n",
       "      <th>cb_person_cred_hist_length</th>\n",
       "    </tr>\n",
       "  </thead>\n",
       "  <tbody>\n",
       "    <tr>\n",
       "      <th>1</th>\n",
       "      <td>21</td>\n",
       "      <td>9600</td>\n",
       "      <td>1</td>\n",
       "      <td>5.0</td>\n",
       "      <td>1</td>\n",
       "      <td>1</td>\n",
       "      <td>1000</td>\n",
       "      <td>11.14</td>\n",
       "      <td>0</td>\n",
       "      <td>0.10</td>\n",
       "      <td>1</td>\n",
       "      <td>2</td>\n",
       "    </tr>\n",
       "    <tr>\n",
       "      <th>2</th>\n",
       "      <td>25</td>\n",
       "      <td>9600</td>\n",
       "      <td>2</td>\n",
       "      <td>1.0</td>\n",
       "      <td>2</td>\n",
       "      <td>2</td>\n",
       "      <td>5500</td>\n",
       "      <td>12.87</td>\n",
       "      <td>1</td>\n",
       "      <td>0.57</td>\n",
       "      <td>1</td>\n",
       "      <td>3</td>\n",
       "    </tr>\n",
       "    <tr>\n",
       "      <th>3</th>\n",
       "      <td>23</td>\n",
       "      <td>65500</td>\n",
       "      <td>0</td>\n",
       "      <td>4.0</td>\n",
       "      <td>2</td>\n",
       "      <td>2</td>\n",
       "      <td>35000</td>\n",
       "      <td>15.23</td>\n",
       "      <td>1</td>\n",
       "      <td>0.53</td>\n",
       "      <td>1</td>\n",
       "      <td>2</td>\n",
       "    </tr>\n",
       "    <tr>\n",
       "      <th>4</th>\n",
       "      <td>24</td>\n",
       "      <td>54400</td>\n",
       "      <td>0</td>\n",
       "      <td>8.0</td>\n",
       "      <td>2</td>\n",
       "      <td>2</td>\n",
       "      <td>35000</td>\n",
       "      <td>14.27</td>\n",
       "      <td>1</td>\n",
       "      <td>0.55</td>\n",
       "      <td>0</td>\n",
       "      <td>4</td>\n",
       "    </tr>\n",
       "    <tr>\n",
       "      <th>5</th>\n",
       "      <td>21</td>\n",
       "      <td>9900</td>\n",
       "      <td>1</td>\n",
       "      <td>2.0</td>\n",
       "      <td>3</td>\n",
       "      <td>0</td>\n",
       "      <td>2500</td>\n",
       "      <td>7.14</td>\n",
       "      <td>1</td>\n",
       "      <td>0.25</td>\n",
       "      <td>1</td>\n",
       "      <td>2</td>\n",
       "    </tr>\n",
       "  </tbody>\n",
       "</table>\n",
       "</div>"
      ],
      "text/plain": [
       "   person_age  person_income  person_home_ownership  person_emp_length  \\\n",
       "1          21           9600                      1                5.0   \n",
       "2          25           9600                      2                1.0   \n",
       "3          23          65500                      0                4.0   \n",
       "4          24          54400                      0                8.0   \n",
       "5          21           9900                      1                2.0   \n",
       "\n",
       "   loan_intent  loan_grade  loan_amnt  loan_int_rate  loan_status  \\\n",
       "1            1           1       1000          11.14            0   \n",
       "2            2           2       5500          12.87            1   \n",
       "3            2           2      35000          15.23            1   \n",
       "4            2           2      35000          14.27            1   \n",
       "5            3           0       2500           7.14            1   \n",
       "\n",
       "   loan_percent_income  cb_person_default_on_file  cb_person_cred_hist_length  \n",
       "1                 0.10                          1                           2  \n",
       "2                 0.57                          1                           3  \n",
       "3                 0.53                          1                           2  \n",
       "4                 0.55                          0                           4  \n",
       "5                 0.25                          1                           2  "
      ]
     },
     "execution_count": 25,
     "metadata": {},
     "output_type": "execute_result"
    }
   ],
   "source": [
    "df1.head()"
   ]
  },
  {
   "cell_type": "code",
   "execution_count": 26,
   "metadata": {},
   "outputs": [],
   "source": [
    "#df1.to_csv(r'C:\\Users\\HP\\Desktop\\Bank Loan Prodiction/LOANdata.csv')\n",
    "rnd_st=10   # random state number"
   ]
  },
  {
   "cell_type": "markdown",
   "metadata": {},
   "source": [
    "### Dividing the dataset into Training dataset and test dataset"
   ]
  },
  {
   "cell_type": "code",
   "execution_count": 27,
   "metadata": {},
   "outputs": [],
   "source": [
    "X = df1.drop(columns=['loan_status'],axis=1)\n",
    "y = df1['loan_status']\n",
    "X_train, X_test, y_train, y_test = train_test_split(X, y, test_size=0.30, random_state=101)"
   ]
  },
  {
   "cell_type": "code",
   "execution_count": 28,
   "metadata": {},
   "outputs": [
    {
     "name": "stdout",
     "output_type": "stream",
     "text": [
      "(19995, 11) (19995,)\n",
      "(8570,) (8570, 11)\n"
     ]
    }
   ],
   "source": [
    "print(X_train.shape, y_train.shape)\n",
    "print(y_test.shape, X_test.shape)"
   ]
  },
  {
   "cell_type": "code",
   "execution_count": 29,
   "metadata": {},
   "outputs": [],
   "source": [
    "#Normalize the data\n",
    "from sklearn.preprocessing import StandardScaler\n",
    "scaler = StandardScaler().fit(X_train)\n",
    "# Normalize the train set\n",
    "X_train = scaler.transform(X_train)\n",
    "# Normalise the test set\n",
    "X_test = scaler.transform(X_test)"
   ]
  },
  {
   "cell_type": "code",
   "execution_count": 30,
   "metadata": {},
   "outputs": [
    {
     "name": "stdout",
     "output_type": "stream",
     "text": [
      "-2.164168907647926 27.98709697988143\n",
      "-2.164168907647926 40.20744730580059\n"
     ]
    }
   ],
   "source": [
    "print(X_train.min(),X_train.max())\n",
    "print(X_test.min(),X_test.max())"
   ]
  },
  {
   "cell_type": "markdown",
   "metadata": {},
   "source": [
    "## 1. Decisions Tree Classifier"
   ]
  },
  {
   "cell_type": "code",
   "execution_count": 31,
   "metadata": {},
   "outputs": [],
   "source": [
    "# max_depths=[3,5,7,9,11,13,15]\n",
    "\n",
    "# for depth in max_depths:\n",
    "#     dt_clf=DecisionTreeClassifier(max_depth=depth, random_state=rnd_st) # make an instance of the model\n",
    "#     dt_clf.fit(X_train, y_train) # train the model on the data\n",
    "#     dt_pred=dt_clf.predict(X_test) # predict the data\n",
    "#     print('DecisionTreeClassifier max_depth: {0} Accuracy Score: {1:.4f}'.format(depth,accuracy_score(y_test, dt_pred)))\n",
    "# print('\\n')"
   ]
  },
  {
   "cell_type": "code",
   "execution_count": 32,
   "metadata": {},
   "outputs": [
    {
     "name": "stdout",
     "output_type": "stream",
     "text": [
      "Best decisionTreeClassifier Accuracy Score: 0.9323\n",
      "\n",
      "\n"
     ]
    }
   ],
   "source": [
    "dt_clf=DecisionTreeClassifier(max_depth=9, random_state=rnd_st) # make an instance of the model\n",
    "dt_clf.fit(X_train, y_train) # train the model on the data\n",
    "dt_pred=dt_clf.predict(X_test) # predict the data\n",
    "print('Best decisionTreeClassifier Accuracy Score: {0:.4f}'.format(accuracy_score(y_test, dt_pred)))\n",
    "print('\\n')"
   ]
  },
  {
   "cell_type": "markdown",
   "metadata": {},
   "source": [
    "## 2. Logistic Regression"
   ]
  },
  {
   "cell_type": "code",
   "execution_count": 33,
   "metadata": {},
   "outputs": [
    {
     "name": "stdout",
     "output_type": "stream",
     "text": [
      "LogisticRegression Accuracy Score: 0.8536\n",
      "\n",
      "\n"
     ]
    }
   ],
   "source": [
    "lr_clf=LogisticRegression(random_state=rnd_st)\n",
    "lr_clf.fit(X_train, y_train)\n",
    "lr_pred=lr_clf.predict(X_test)\n",
    "print('LogisticRegression Accuracy Score: {0:.4f}'.format(accuracy_score(y_test, lr_pred)))\n",
    "print('\\n')"
   ]
  },
  {
   "cell_type": "markdown",
   "metadata": {},
   "source": [
    "## 3. K Nearest Neighbors"
   ]
  },
  {
   "cell_type": "code",
   "execution_count": 46,
   "metadata": {},
   "outputs": [],
   "source": [
    "max_depths=[3,5,7,9,11,13,15,17]\n",
    "# for depth in max_depths:\n",
    "#     knn_clf=KNeighborsClassifier(n_neighbors=depth)\n",
    "#     knn_clf.fit(X_train, y_train)\n",
    "#     knn_pred=knn_clf.predict(X_test)\n",
    "#     print('KNeighborsClassifier Accuracy Score: {0:.4f}'.format(accuracy_score(y_test, knn_pred)))\n",
    "# print('\\n')"
   ]
  },
  {
   "cell_type": "code",
   "execution_count": 47,
   "metadata": {},
   "outputs": [
    {
     "name": "stdout",
     "output_type": "stream",
     "text": [
      "KNeighborsClassifier Accuracy Score: 0.8866\n"
     ]
    }
   ],
   "source": [
    "knn_clf=KNeighborsClassifier(n_neighbors=11)\n",
    "knn_clf.fit(X_train, y_train)\n",
    "knn_pred=knn_clf.predict(X_test)\n",
    "print('KNeighborsClassifier Accuracy Score: {0:.4f}'.format(accuracy_score(y_test, knn_pred)))"
   ]
  },
  {
   "cell_type": "markdown",
   "metadata": {},
   "source": [
    "# 4. Support Vector Machine"
   ]
  },
  {
   "cell_type": "code",
   "execution_count": 48,
   "metadata": {},
   "outputs": [
    {
     "name": "stdout",
     "output_type": "stream",
     "text": [
      "Support Vector Classification Accuracy Score: 0.8923\n"
     ]
    }
   ],
   "source": [
    "sv_clf=svm.SVC(random_state=rnd_st)\n",
    "sv_clf.fit(X_train, y_train)\n",
    "sv_pred=sv_clf.predict(X_test)\n",
    "print('Support Vector Classification Accuracy Score: {0:.4f}'.format(accuracy_score(y_test, sv_pred)))"
   ]
  },
  {
   "cell_type": "markdown",
   "metadata": {},
   "source": [
    "## 5. Gaussian Naive Bayes (GaussianNB)"
   ]
  },
  {
   "cell_type": "code",
   "execution_count": 49,
   "metadata": {},
   "outputs": [
    {
     "name": "stdout",
     "output_type": "stream",
     "text": [
      "Gaussian Naive Bayes Classification Accuracy Score: 0.8923\n"
     ]
    }
   ],
   "source": [
    "G_NB_clf=GaussianNB()\n",
    "G_NB_clf.fit(X_train, y_train)\n",
    "G_NB_pred=sv_clf.predict(X_test)\n",
    "print('Gaussian Naive Bayes Classification Accuracy Score: {0:.4f}'.format(accuracy_score(y_test, G_NB_pred)))"
   ]
  },
  {
   "cell_type": "markdown",
   "metadata": {},
   "source": [
    "## 6. RandomForestClassifier"
   ]
  },
  {
   "cell_type": "code",
   "execution_count": 54,
   "metadata": {},
   "outputs": [],
   "source": [
    "#for depth in max_depths:\n",
    "#     rf_clf=RandomForestClassifier(n_estimators=100, max_depth=depth, random_state=rnd_st)\n",
    "#     rf_clf.fit(X_train, y_train)\n",
    "#     rf_pred=rf_clf.predict(X_test)\n",
    "#     print('RandomForestClassifier max_depth: {0} Accuracy Score: {1:.4f}'.format(depth, accuracy_score(y_test, rf_pred)))\n",
    "# print(\\n')"
   ]
  },
  {
   "cell_type": "code",
   "execution_count": 56,
   "metadata": {},
   "outputs": [
    {
     "name": "stdout",
     "output_type": "stream",
     "text": [
      "RandomForestClassifier max_depth: 15 Accuracy Score: 0.9335\n",
      "\n",
      "\n"
     ]
    }
   ],
   "source": [
    "rf_clf=RandomForestClassifier(n_estimators=100, max_depth=15, random_state=rnd_st)\n",
    "rf_clf.fit(X_train, y_train)\n",
    "rf_pred=rf_clf.predict(X_test)\n",
    "print('RandomForestClassifier max_depth: {0} Accuracy Score: {1:.4f}'.format(15, accuracy_score(y_test, rf_pred)))\n",
    "print('\\n')"
   ]
  },
  {
   "cell_type": "markdown",
   "metadata": {},
   "source": [
    "## 7. Ensenble Learning (VotingClassifier Test)"
   ]
  },
  {
   "cell_type": "code",
   "execution_count": 57,
   "metadata": {},
   "outputs": [
    {
     "name": "stdout",
     "output_type": "stream",
     "text": [
      "VotingClassifier Accuracy Score: 0.8821\n",
      "\n",
      "\n"
     ]
    }
   ],
   "source": [
    "vo_clf=VotingClassifier(estimators=[('LR',lr_clf),('KNN',knn_clf)],voting='soft')\n",
    "vo_clf.fit(X_train, y_train)\n",
    "vo_pred=vo_clf.predict(X_test)\n",
    "print('VotingClassifier Accuracy Score: {0:.4f}'.format(accuracy_score(y_test, vo_pred)))\n",
    "print('\\n')"
   ]
  },
  {
   "cell_type": "markdown",
   "metadata": {},
   "source": [
    "## 8. Ensenble Learning (GradientBoostingClassifier Test)"
   ]
  },
  {
   "cell_type": "code",
   "execution_count": 58,
   "metadata": {},
   "outputs": [
    {
     "name": "stdout",
     "output_type": "stream",
     "text": [
      "GradientBoostingClassifier Accuracy Score: 0.9307\n",
      "\n",
      "\n"
     ]
    }
   ],
   "source": [
    "gb_clf=GradientBoostingClassifier(random_state=rnd_st)\n",
    "gb_clf.fit(X_train, y_train)\n",
    "gb_pred=gb_clf.predict(X_test)\n",
    "print('GradientBoostingClassifier Accuracy Score: {0:.4f}'.format(accuracy_score(y_test, gb_pred)))\n",
    "print('\\n')"
   ]
  },
  {
   "cell_type": "markdown",
   "metadata": {},
   "source": [
    "## 9. Ensenble Learning (AdaBoostClassifier Test)"
   ]
  },
  {
   "cell_type": "code",
   "execution_count": 59,
   "metadata": {},
   "outputs": [
    {
     "name": "stdout",
     "output_type": "stream",
     "text": [
      "AdaBoostClassifier Accuracy Score: 0.8911\n",
      "\n",
      "\n"
     ]
    }
   ],
   "source": [
    "ada_clf=AdaBoostClassifier(n_estimators=400)\n",
    "ada_clf.fit(X_train, y_train)\n",
    "ada_pred=ada_clf.predict(X_test)\n",
    "print('AdaBoostClassifier Accuracy Score: {0:.4f}'.format(accuracy_score(y_test, ada_pred)))\n",
    "print('\\n')"
   ]
  },
  {
   "cell_type": "markdown",
   "metadata": {},
   "source": [
    "## 9. XGBoost Test"
   ]
  },
  {
   "cell_type": "code",
   "execution_count": 60,
   "metadata": {},
   "outputs": [
    {
     "name": "stdout",
     "output_type": "stream",
     "text": [
      "[13:32:51] WARNING: C:/Users/Administrator/workspace/xgboost-win64_release_1.4.0/src/learner.cc:1095: Starting in XGBoost 1.3.0, the default evaluation metric used with the objective 'binary:logistic' was changed from 'error' to 'logloss'. Explicitly set eval_metric if you'd like to restore the old behavior.\n",
      "XGBoost Classifier Accuracy Score: 0.9347\n",
      "\n",
      "\n"
     ]
    }
   ],
   "source": [
    "xgb_clf=XGBClassifier(n_estimators=400, learning_rate=0.1, max_depth=3, random_state=rnd_st)\n",
    "xgb_clf.fit(X_train, y_train)\n",
    "xgb_pred=xgb_clf.predict(X_test)\n",
    "print('XGBoost Classifier Accuracy Score: {0:.4f}'.format(accuracy_score(y_test, xgb_pred)))\n",
    "print('\\n')"
   ]
  },
  {
   "cell_type": "markdown",
   "metadata": {},
   "source": [
    "### List of different classifiers we are going to test"
   ]
  },
  {
   "cell_type": "code",
   "execution_count": 63,
   "metadata": {},
   "outputs": [],
   "source": [
    "# list of different classifiers we are going to test\n",
    "from sklearn.svm import SVC\n",
    "from sklearn import preprocessing, metrics\n",
    "clfs = {\n",
    "'LogisticRegression' : LogisticRegression(),\n",
    "'GaussianNB': GaussianNB(),\n",
    "'RandomForest': RandomForestClassifier(),\n",
    "'DecisionTreeClassifier': DecisionTreeClassifier(max_depth=9, random_state=rnd_st),\n",
    "'Support Vector Machine': SVC(),\n",
    "'KNeighborsClassifier': KNeighborsClassifier(),\n",
    "'VotingClassifier':VotingClassifier(estimators=[('LR',lr_clf),('KNN',knn_clf)],voting='soft'),\n",
    "'GradientBoostingClassifier':GradientBoostingClassifier(),\n",
    "'AdaBoostClassifier':AdaBoostClassifier(n_estimators=400),\n",
    "'XGBClassifier':XGBClassifier(n_estimators=400, learning_rate=0.1, max_depth=3, random_state=rnd_st)\n",
    "}"
   ]
  },
  {
   "cell_type": "code",
   "execution_count": 64,
   "metadata": {},
   "outputs": [
    {
     "name": "stdout",
     "output_type": "stream",
     "text": [
      "[13:37:55] WARNING: C:/Users/Administrator/workspace/xgboost-win64_release_1.4.0/src/learner.cc:1095: Starting in XGBoost 1.3.0, the default evaluation metric used with the objective 'binary:logistic' was changed from 'error' to 'logloss'. Explicitly set eval_metric if you'd like to restore the old behavior.\n"
     ]
    },
    {
     "data": {
      "text/html": [
       "<div>\n",
       "<style scoped>\n",
       "    .dataframe tbody tr th:only-of-type {\n",
       "        vertical-align: middle;\n",
       "    }\n",
       "\n",
       "    .dataframe tbody tr th {\n",
       "        vertical-align: top;\n",
       "    }\n",
       "\n",
       "    .dataframe thead th {\n",
       "        text-align: right;\n",
       "    }\n",
       "</style>\n",
       "<table border=\"1\" class=\"dataframe\">\n",
       "  <thead>\n",
       "    <tr style=\"text-align: right;\">\n",
       "      <th></th>\n",
       "      <th>Model</th>\n",
       "      <th>Precision_score</th>\n",
       "      <th>Recall_score</th>\n",
       "      <th>F1_score</th>\n",
       "      <th>Accuracy</th>\n",
       "    </tr>\n",
       "  </thead>\n",
       "  <tbody>\n",
       "    <tr>\n",
       "      <th>0</th>\n",
       "      <td>LogisticRegression</td>\n",
       "      <td>0.805812</td>\n",
       "      <td>0.724991</td>\n",
       "      <td>0.752949</td>\n",
       "      <td>0.853559</td>\n",
       "    </tr>\n",
       "    <tr>\n",
       "      <th>1</th>\n",
       "      <td>GaussianNB</td>\n",
       "      <td>0.724592</td>\n",
       "      <td>0.756572</td>\n",
       "      <td>0.737349</td>\n",
       "      <td>0.808868</td>\n",
       "    </tr>\n",
       "    <tr>\n",
       "      <th>2</th>\n",
       "      <td>RandomForest</td>\n",
       "      <td>0.948695</td>\n",
       "      <td>0.854398</td>\n",
       "      <td>0.891243</td>\n",
       "      <td>0.933722</td>\n",
       "    </tr>\n",
       "    <tr>\n",
       "      <th>3</th>\n",
       "      <td>DecisionTreeClassifier</td>\n",
       "      <td>0.940884</td>\n",
       "      <td>0.856049</td>\n",
       "      <td>0.889943</td>\n",
       "      <td>0.932322</td>\n",
       "    </tr>\n",
       "    <tr>\n",
       "      <th>4</th>\n",
       "      <td>Support Vector Machine</td>\n",
       "      <td>0.883067</td>\n",
       "      <td>0.782576</td>\n",
       "      <td>0.818487</td>\n",
       "      <td>0.892299</td>\n",
       "    </tr>\n",
       "    <tr>\n",
       "      <th>5</th>\n",
       "      <td>KNeighborsClassifier</td>\n",
       "      <td>0.854037</td>\n",
       "      <td>0.779633</td>\n",
       "      <td>0.808144</td>\n",
       "      <td>0.883081</td>\n",
       "    </tr>\n",
       "    <tr>\n",
       "      <th>6</th>\n",
       "      <td>VotingClassifier</td>\n",
       "      <td>0.865949</td>\n",
       "      <td>0.764751</td>\n",
       "      <td>0.799918</td>\n",
       "      <td>0.882147</td>\n",
       "    </tr>\n",
       "    <tr>\n",
       "      <th>7</th>\n",
       "      <td>GradientBoostingClassifier</td>\n",
       "      <td>0.944150</td>\n",
       "      <td>0.849136</td>\n",
       "      <td>0.886046</td>\n",
       "      <td>0.930688</td>\n",
       "    </tr>\n",
       "    <tr>\n",
       "      <th>8</th>\n",
       "      <td>AdaBoostClassifier</td>\n",
       "      <td>0.854922</td>\n",
       "      <td>0.808644</td>\n",
       "      <td>0.828424</td>\n",
       "      <td>0.891132</td>\n",
       "    </tr>\n",
       "    <tr>\n",
       "      <th>9</th>\n",
       "      <td>XGBClassifier</td>\n",
       "      <td>0.945961</td>\n",
       "      <td>0.858907</td>\n",
       "      <td>0.893587</td>\n",
       "      <td>0.934656</td>\n",
       "    </tr>\n",
       "  </tbody>\n",
       "</table>\n",
       "</div>"
      ],
      "text/plain": [
       "                        Model  Precision_score  Recall_score  F1_score  \\\n",
       "0          LogisticRegression         0.805812      0.724991  0.752949   \n",
       "1                  GaussianNB         0.724592      0.756572  0.737349   \n",
       "2                RandomForest         0.948695      0.854398  0.891243   \n",
       "3      DecisionTreeClassifier         0.940884      0.856049  0.889943   \n",
       "4      Support Vector Machine         0.883067      0.782576  0.818487   \n",
       "5        KNeighborsClassifier         0.854037      0.779633  0.808144   \n",
       "6            VotingClassifier         0.865949      0.764751  0.799918   \n",
       "7  GradientBoostingClassifier         0.944150      0.849136  0.886046   \n",
       "8          AdaBoostClassifier         0.854922      0.808644  0.828424   \n",
       "9               XGBClassifier         0.945961      0.858907  0.893587   \n",
       "\n",
       "   Accuracy  \n",
       "0  0.853559  \n",
       "1  0.808868  \n",
       "2  0.933722  \n",
       "3  0.932322  \n",
       "4  0.892299  \n",
       "5  0.883081  \n",
       "6  0.882147  \n",
       "7  0.930688  \n",
       "8  0.891132  \n",
       "9  0.934656  "
      ]
     },
     "execution_count": 64,
     "metadata": {},
     "output_type": "execute_result"
    }
   ],
   "source": [
    "models_report = pd.DataFrame(columns = ['Model', 'Precision_score', 'Recall_score','F1_score', 'Accuracy'])\n",
    "\n",
    "for clf, clf_name in zip(clfs.values(), clfs.keys()):\n",
    "    clf.fit(X_train,y_train)\n",
    "    y_pred = clf.predict(X_test)\n",
    "    y_score = clf.score(X_test,y_test)\n",
    "    \n",
    "    #print('Calculating {}'.format(clf_name))\n",
    "    t = pd.Series({ \n",
    "                     'Model': clf_name,\n",
    "                     'Precision_score': metrics.precision_score(y_test, y_pred,average='macro'),\n",
    "                     'Recall_score': metrics.recall_score(y_test, y_pred,average='macro'),\n",
    "                     'F1_score': metrics.f1_score(y_test, y_pred,average='macro'),\n",
    "                     'Accuracy': metrics.accuracy_score(y_test, y_pred)}\n",
    "                   )\n",
    "\n",
    "    models_report = models_report.append(t, ignore_index = True)\n",
    "\n",
    "models_report"
   ]
  },
  {
   "cell_type": "code",
   "execution_count": null,
   "metadata": {},
   "outputs": [],
   "source": []
  }
 ],
 "metadata": {
  "kernelspec": {
   "display_name": "Python 3",
   "language": "python",
   "name": "python3"
  },
  "language_info": {
   "codemirror_mode": {
    "name": "ipython",
    "version": 3
   },
   "file_extension": ".py",
   "mimetype": "text/x-python",
   "name": "python",
   "nbconvert_exporter": "python",
   "pygments_lexer": "ipython3",
   "version": "3.8.5"
  }
 },
 "nbformat": 4,
 "nbformat_minor": 2
}
